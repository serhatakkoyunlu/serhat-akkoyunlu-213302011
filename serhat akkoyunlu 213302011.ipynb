{
 "cells": [
  {
   "cell_type": "markdown",
   "id": "21787356-387c-45ff-82c6-078313f3c7bd",
   "metadata": {},
   "source": [
    "# Web Editörleri Ara Sınav Uygulaması\n",
    "\n",
    "### Talimatlar:\n",
    "* <font color=red>Bilgisayarın Görmesi (Computer Vision)</font> ile ilgili OpenCV kütüphanesinin kullanımını anlatan bir uygulama kılavuzu hazırlayınız.\n",
    "* Klavuzda yer alan başlık ve içerik yapısı aşağıdaki gibi olacaktır.\n",
    "* Dosyayı hazırladıktan sonra Github üzerinde bir hesap açıp, bu dosyayı oraya yükleyip, web adresini bu hücrece verilen yere yazınız.\n",
    "* Bu dosyayı ayrıca DBS üzerinde açılan sınav ödevi etkinliğine yükleyiniz.\n",
    "* Bu dosyayı hazırladıktan sonra DBS'ye yüklerken mutlaka dosya adını değiştirerek Kendi Adınızı yazınız. Github'a yüklerken dosya adını konu başlığı ile değiştiriniz.\n",
    "\n",
    "### Öğrenci Bilgileri\n",
    "\n",
    "Öğrenci bilgilerini yazmak için <u>buraya</u> çift tıklayınız.\n",
    "* Adı Soyadı:Serhat Akkoyunlu   \n",
    "* Öğrenci No:213302011\n",
    "* Dosyanın Github adresi: https://github.com/serhatakkoyunlu/serhat-akkoyunlu-213302011\n",
    "<br><br><b></b>"
   ]
  },
  {
   "cell_type": "markdown",
   "id": "a90db1ba-6346-456c-b18f-a494c03a7eef",
   "metadata": {},
   "source": [
    "# Computer Vision\n",
    "\n",
    "Bilgisayar görüşü (Computer Vision), bilgisayarların dijital görüntüler üzerinde işlem yaparak çevresel bilgi almasını, anlamasını ve yorumlamasını sağlayan bir disiplindir. İnsan görüş sisteminin işlevselliğini ve yeteneklerini taklit etmeye çalışır. Bu, görüntü işleme, desen tanıma, makine öğrenimi ve yapay zeka gibi alanları içeren multidisipliner bir alandır."
   ]
  },
  {
   "cell_type": "markdown",
   "id": "ebfa1415-77ef-4991-9a36-5cfa1cb92932",
   "metadata": {},
   "source": [
    "### OpenCv Kütüphanesi Kullanımı\n",
    "OpenCv kütüphanesi kullanarak aşağıdaki işlemler yapılabilir:\n",
    "\n",
    "1- Görüntü Okuma ve Yazma: OpenCV, farklı formatlardaki görüntüleri okuyabilir (JPEG, PNG, BMP, vb.) ve bunları işleyebilir. Ayrıca, işlenmiş görüntüleri diskte saklamak için kullanılabilir.\n",
    "\n",
    "2- Görüntü İşleme: Bir görüntü üzerinde çeşitli işlemler yapabilirsiniz, örneğin, görüntüyü yeniden boyutlandırma, döndürme, kesme, filtreleme (örneğin, Gaussian, Sobel), parlaklık ve kontrast ayarlama gibi işlemler gerçekleştirebilirsiniz.\n",
    "\n",
    "3- Renk Dönüşümleri: OpenCV, RGB, HSV, Lab gibi farklı renk uzayları arasında dönüşümler yapabilir. Bu, renk tabanlı işlemler veya nesne tespiti gibi çeşitli uygulamalarda kullanışlıdır.\n",
    "\n",
    "4-Nesne Algılama ve Takibi: OpenCV, nesneleri algılamak ve takip etmek için kullanılabilir. Örneğin, nesne algılama, nesne sınıflandırma, yüz algılama, nesne takibi, hareket tespiti gibi uygulamalar yapılabilir.\n",
    "\n",
    "5-Öznitelik Çıkarımı: Görüntülerden öznitelikler çıkararak öğrenme ve tanıma algoritmaları için veri hazırlığı yapabilirsiniz. Bu, görüntü sınıflandırma, nesne tanıma, yüz tanıma gibi uygulamalarda kullanılır.\n",
    "\n",
    "6-Kamera ve Video İşleme: OpenCV, gerçek zamanlı kamera görüntüsü yakalama ve işleme yetenekleri sunar. Bu, video akışlarını işlemek ve çeşitli uygulamalar için görüntü analizi yapmak için kullanılabilir.\n",
    "\n",
    "7-Görüntü Düzeltme ve Geometrik Dönüşümler: OpenCV, görüntüleri düzeltmek ve geometrik dönüşümler uygulamak için kullanılabilir. Örneğin, perspektif dönüşümleri veya görüntü kaydırma işlemleri gibi.\n",
    "\n",
    "8-Yüz Tanıma ve Yüz Tanıma: OpenCV, yüz algılama, yüz tanıma ve yüz özniteliklerini tanıma gibi yüzle ilgili işlemler için özel fonksiyonlar içerir.\n",
    "\n",
    "9-Kullanıcı Arabirimi Geliştirme: OpenCV, görüntü işleme uygulamaları için kullanıcı arayüzleri geliştirmek için kullanılabilir. Örneğin, kullanıcıların etkileşime girebileceği basit bir arayüz oluşturmak için kullanılabilir."
   ]
  },
  {
   "cell_type": "markdown",
   "id": "bf8597a7-af19-4875-9ea5-9fb77b63b804",
   "metadata": {},
   "source": [
    "###  Kütüphanenin kurulumu"
   ]
  },
  {
   "cell_type": "code",
   "execution_count": null,
   "id": "e8300d50-497c-42e1-ac2b-cc458bffa579",
   "metadata": {},
   "outputs": [],
   "source": [
    "pip install opencv-python\n",
    "pip install opencv-python-headless  # Ekstra bir grafik kullanıcı arabirimine ihtiyaç duymadan OpenCV'yi yükler\n",
    "pip install opencv-contrib-python     # Ekstra modüller ve işlevsellikler içeren OpenCV'nin tam sürümünü yükler\n"
   ]
  },
  {
   "cell_type": "code",
   "execution_count": null,
   "id": "16af5290-9980-42ea-86f9-c4266926ae24",
   "metadata": {},
   "outputs": [],
   "source": [
    "import cv2\n",
    "\n",
    "# Görüntüyü oku\n",
    "image = cv2.imread('ornek_goruntu.jpg')\n",
    "\n",
    "# Görüntüyü göster\n",
    "cv2.imshow('Goruntu', image)\n",
    "\n",
    "# Kullanıcının bir tuşa basmasını bekler ve görüntü penceresini kapatır\n",
    "cv2.waitKey(0)\n",
    "cv2.destroyAllWindows()\n",
    "\n",
    "# Kenarları göster\n",
    "cv2.imshow('Kenarlar', edges)\n",
    "\n",
    "# Kenarları algıla\n",
    "edges = cv2.Canny(gray_image, 100, 200)\n",
    "\n",
    "# Gri tonlamalıya dönüştür\n",
    "gray_image = cv2.cvtColor(image, cv2.COLOR_BGR2GRAY)\n",
    "\n",
    "# Görüntüyü kaydetme\n",
    "cv2.imwrite()\n",
    "\n",
    "# Yüz tanıma\n",
    "face_cascade = cv2.CascadeClassifier('haarcascade_frontalface_default.xml')\n",
    "eye_cascade = cv2.CascadeClassifier('haarcascade_eye.xml')\n",
    "\n",
    "# Yüzleri ekranda gösterme\n",
    "cv2.rectangle()\n",
    "\n",
    "#Görüntü Bulanıklaştırma\n",
    "cv2.medianBlur()\n",
    "\n",
    "\n",
    "\n"
   ]
  },
  {
   "cell_type": "markdown",
   "id": "474f1e1f-1f51-4097-b13b-2997d2f13464",
   "metadata": {},
   "source": [
    "### Görüntüyü Okuma ve Gösterme"
   ]
  },
  {
   "cell_type": "code",
   "execution_count": null,
   "id": "3be2c9b7-6708-4de3-9ab5-215ce741fef0",
   "metadata": {},
   "outputs": [],
   "source": [
    "\n",
    "\n",
    "import cv2\n",
    "\n",
    "# Görüntüyü oku\n",
    "image = cv2.imread('ornek_goruntu.jpg')\n",
    "\n",
    "# Görüntüyü göster\n",
    "cv2.imshow('Goruntu', image)\n",
    "\n",
    "# Kullanıcının bir tuşa basmasını bekler ve görüntü penceresini kapatır\n",
    "cv2.waitKey(0)\n",
    "cv2.destroyAllWindows()\n",
    "\n",
    "\n",
    "\n"
   ]
  },
  {
   "cell_type": "markdown",
   "id": "1384bf1c-b05d-4ff2-a44b-0740b99eba31",
   "metadata": {},
   "source": [
    "### Gri Tonlamalıya Dönüştürme:"
   ]
  },
  {
   "cell_type": "code",
   "execution_count": null,
   "id": "b265a851-406a-49c5-af2f-3e8cfaf6087f",
   "metadata": {},
   "outputs": [],
   "source": [
    "import cv2\n",
    "\n",
    "# Görüntüyü oku\n",
    "image = cv2.imread('ornek_goruntu.jpg')\n",
    "\n",
    "# Görüntüyü gri tonlamalıya dönüştür\n",
    "gray_image = cv2.cvtColor(image, cv2.COLOR_BGR2GRAY)\n",
    "\n",
    "# Gri tonlamalı görüntüyü göster\n",
    "cv2.imshow('Gri Goruntu', gray_image)\n",
    "cv2.waitKey(0)\n",
    "cv2.destroyAllWindows()\n",
    "\n",
    "\n",
    "\n",
    "\n"
   ]
  },
  {
   "cell_type": "markdown",
   "id": "d57b3c94",
   "metadata": {},
   "source": [
    "### Kenar Algılama:"
   ]
  },
  {
   "cell_type": "code",
   "execution_count": null,
   "id": "1f8e4f00-3502-461b-aadf-2b4f2b72b9d7",
   "metadata": {},
   "outputs": [],
   "source": [
    "import cv2\n",
    "\n",
    "# Görüntüyü oku\n",
    "image = cv2.imread('ornek_goruntu.jpg')\n",
    "\n",
    "# Gri tonlamalıya dönüştür\n",
    "gray_image = cv2.cvtColor(image, cv2.COLOR_BGR2GRAY)\n",
    "\n",
    "# Kenarları algıla\n",
    "edges = cv2.Canny(gray_image, 100, 200)\n",
    "\n",
    "# Kenarları göster\n",
    "cv2.imshow('Kenarlar', edges)\n",
    "cv2.waitKey(0)\n",
    "cv2.destroyAllWindows()\n"
   ]
  },
  {
   "cell_type": "markdown",
   "id": "6ba8ba4d",
   "metadata": {},
   "source": [
    "### Yüz Tanıma:"
   ]
  },
  {
   "cell_type": "code",
   "execution_count": null,
   "id": "5cc6ca5b-4cdb-4c00-bb8f-4f372fe40855",
   "metadata": {},
   "outputs": [],
   "source": [
    "import cv2\n",
    "\n",
    "# Yüz sınıflandırıcısını yükle\n",
    "face_cascade = cv2.CascadeClassifier(cv2.data.haarcascades + 'haarcascade_frontalface_default.xml')\n",
    "\n",
    "# Görüntüyü oku\n",
    "image = cv2.imread('ornek_goruntu.jpg')\n",
    "\n",
    "# Görüntüyü gri tonlamalıya dönüştür\n",
    "gray_image = cv2.cvtColor(image, cv2.COLOR_BGR2GRAY)\n",
    "\n",
    "# Yüzleri algıla\n",
    "faces = face_cascade.detectMultiScale(gray_image, scaleFactor=1.1, minNeighbors=5, minSize=(30, 30))\n",
    "\n",
    "# Her yüzü çevreleyen dikdörtgenleri çiz\n",
    "for (x, y, w, h) in faces:\n",
    "    cv2.rectangle(image, (x, y), (x+w, y+h), (255, 0, 0), 2)\n",
    "\n",
    "# Yüzleri göster\n",
    "cv2.imshow('Yuzler', image)\n",
    "cv2.waitKey(0)\n",
    "cv2.destroyAllWindows()\n"
   ]
  },
  {
   "cell_type": "markdown",
   "id": "01967624",
   "metadata": {},
   "source": [
    "### Belirli Bir Renk Aralığına Göre Nesne Algılama:\n"
   ]
  },
  {
   "cell_type": "code",
   "execution_count": null,
   "id": "780699fa-ba1e-4afe-98ed-cca0059e16de",
   "metadata": {},
   "outputs": [],
   "source": [
    "import cv2\n",
    "import numpy as np\n",
    "\n",
    "# Görüntüyü oku\n",
    "image = cv2.imread('ornek_goruntu.jpg')\n",
    "\n",
    "# Görüntüyü HSV renk uzayına dönüştür\n",
    "hsv_image = cv2.cvtColor(image, cv2.COLOR_BGR2HSV)\n",
    "\n",
    "# Belirli bir renk aralığına göre maske oluştur\n",
    "lower_blue = np.array([90, 50, 50])\n",
    "upper_blue = np.array([130, 255, 255])\n",
    "mask = cv2.inRange(hsv_image, lower_blue, upper_blue)\n",
    "\n",
    "# Maskeyi uygula\n",
    "result = cv2.bitwise_and(image, image, mask=mask)\n",
    "\n",
    "# Görüntüyü göster\n",
    "cv2.imshow('Nesne Algılama', result)\n",
    "cv2.waitKey(0)\n",
    "cv2.destroyAllWindows()\n"
   ]
  },
  {
   "cell_type": "markdown",
   "id": "dd203f4d",
   "metadata": {},
   "source": [
    "### Resim Üzerine Metin Ekleme:"
   ]
  },
  {
   "cell_type": "code",
   "execution_count": null,
   "id": "42a66bc3-468c-44c7-ace2-f83b2d611b61",
   "metadata": {},
   "outputs": [],
   "source": [
    "import cv2\n",
    "\n",
    "# Görüntüyü oku\n",
    "image = cv2.imread('ornek_goruntu.jpg')\n",
    "\n",
    "# Metin eklemek için font ve metin rengi tanımla\n",
    "font = cv2.FONT_HERSHEY_SIMPLEX\n",
    "text = 'Merhaba, Dünya!'\n",
    "color = (255, 0, 0)  # Mavi renk (BGR formatında)\n",
    "\n",
    "# Metni görüntüye ekle\n",
    "cv2.putText(image, text, (50, 50), font, 1, color, 2)\n",
    "\n",
    "# Görüntüyü göster\n",
    "cv2.imshow('Metin Ekleme', image)\n",
    "cv2.waitKey(0)\n",
    "cv2.destroyAllWindows()\n"
   ]
  },
  {
   "cell_type": "markdown",
   "id": "9c8d8d60",
   "metadata": {},
   "source": [
    "### Resmi Yeniden Boyutlandırma ve Döndürme:\n"
   ]
  },
  {
   "cell_type": "code",
   "execution_count": null,
   "id": "947cfdb4-7757-408b-a599-bf40a73330b4",
   "metadata": {},
   "outputs": [],
   "source": [
    "import cv2\n",
    "\n",
    "# Görüntüyü oku\n",
    "image = cv2.imread('ornek_goruntu.jpg')\n",
    "\n",
    "# Görüntüyü yeniden boyutlandır\n",
    "resized_image = cv2.resize(image, (500, 300))\n",
    "\n",
    "# Görüntüyü 90 derece saat yönünde döndür\n",
    "rotated_image = cv2.rotate(resized_image, cv2.ROTATE_90_CLOCKWISE)\n",
    "\n",
    "# Yeniden boyutlandırılmış ve döndürülmüş görüntüyü göster\n",
    "cv2.imshow('Yeniden Boyutlandırılmış ve Döndürülmüş Görüntü', rotated_image)\n",
    "cv2.waitKey(0)\n",
    "cv2.destroyAllWindows()\n"
   ]
  },
  {
   "cell_type": "code",
   "execution_count": null,
   "id": "fffc23d4-6bc7-412e-b776-cde8891ec8a7",
   "metadata": {},
   "outputs": [],
   "source": []
  }
 ],
 "metadata": {
  "kernelspec": {
   "display_name": "Python 3 (ipykernel)",
   "language": "python",
   "name": "python3"
  },
  "language_info": {
   "codemirror_mode": {
    "name": "ipython",
    "version": 3
   },
   "file_extension": ".py",
   "mimetype": "text/x-python",
   "name": "python",
   "nbconvert_exporter": "python",
   "pygments_lexer": "ipython3",
   "version": "3.11.5"
  }
 },
 "nbformat": 4,
 "nbformat_minor": 5
}
